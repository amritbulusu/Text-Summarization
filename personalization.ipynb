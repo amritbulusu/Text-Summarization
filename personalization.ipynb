{
 "cells": [
  {
   "cell_type": "code",
   "execution_count": 1,
   "metadata": {},
   "outputs": [
    {
     "name": "stderr",
     "output_type": "stream",
     "text": [
      "C:\\Users\\amrit\\Anaconda3\\lib\\site-packages\\gensim\\utils.py:1197: UserWarning: detected Windows; aliasing chunkize to chunkize_serial\n",
      "  warnings.warn(\"detected Windows; aliasing chunkize to chunkize_serial\")\n"
     ]
    }
   ],
   "source": [
    "import pandas as pd\n",
    "import numpy as np\n",
    "import re\n",
    "from nltk.corpus import stopwords\n",
    "from bs4 import BeautifulSoup\n",
    "import pickle\n",
    "from gensim import corpora, models, similarities\n",
    "def __pickleStuff(filename, stuff):\n",
    "    save_stuff = open(filename, \"wb\")\n",
    "    pickle.dump(stuff, save_stuff)\n",
    "    save_stuff.close()\n",
    "def __loadStuff(filename):\n",
    "    saved_stuff = open(filename,\"rb\")\n",
    "    stuff = pickle.load(saved_stuff)\n",
    "    saved_stuff.close()\n",
    "    return stuff"
   ]
  },
  {
   "cell_type": "code",
   "execution_count": 2,
   "metadata": {
    "collapsed": true
   },
   "outputs": [],
   "source": [
    "users = pd.read_csv(\"dbs.csv\", error_bad_lines=False, delimiter=\";\")"
   ]
  },
  {
   "cell_type": "code",
   "execution_count": 3,
   "metadata": {
    "collapsed": true
   },
   "outputs": [],
   "source": [
    "users = users.drop([\"youtubelink\", \"twitterlink\", \"facebooklink\", \"flickrlink\"], axis=1)"
   ]
  },
  {
   "cell_type": "code",
   "execution_count": 4,
   "metadata": {
    "collapsed": true
   },
   "outputs": [],
   "source": [
    "users = users.dropna()"
   ]
  },
  {
   "cell_type": "code",
   "execution_count": 5,
   "metadata": {
    "collapsed": true
   },
   "outputs": [],
   "source": [
    "users_text = []"
   ]
  },
  {
   "cell_type": "code",
   "execution_count": 6,
   "metadata": {
    "collapsed": true,
    "scrolled": true
   },
   "outputs": [],
   "source": [
    "for index, row in users.iterrows():\n",
    "    users_text.append(str(row[\"tagline\"]) +\". \"+ str(row[\"profile\"]))"
   ]
  },
  {
   "cell_type": "code",
   "execution_count": 67,
   "metadata": {
    "collapsed": true
   },
   "outputs": [],
   "source": [
    "test_output = __loadStuff(\"test_output.p\")\n",
    "test_output_more = __loadStuff(\"test_output_more.p\")"
   ]
  },
  {
   "cell_type": "code",
   "execution_count": 83,
   "metadata": {},
   "outputs": [
    {
     "data": {
      "text/plain": [
       "\"Google launched a new US wireless service today that switches between Wi-Fi network and cellular networks Google is already the world ’s most popular phone software provider , and a pay - tv operator - and now it wants to be your mobile network carrier the company has unveiled a US wireless service that switches between Wi-Fi network and cellular networks to curb data use and keep phone bills low the service , called ' Project Fi , ' debuted today , about two months after Google revealed its plans to expand its ever - growing empire into providing wireless connections for smartphones Google is selling the basic phone service for $ 20 a month and will only charge customers for the amount of cellular data that they use each month , instead of a flat rate each gigabyte of data will cost $ 10 a month that means a customer could sign up for a plan offering three gigabytes of data and get $ 20 back if only one gigabyte was used in a month most wireless phone carriers allow their customers to roll over unused data into another month of service without refunding any money Project Wi-Fi initially will only be sold to a narrow US audience that owns the Nexus 6 6 , a smartphone that Motorola Mobility made with Google 's help Google 's pricing setup makes Project Fi less expensive than most of the comparable plans offering by the four biggest wireless phone carriers - Verizon , AT&T , T-Mobile and Sprint Corp the monthly prices for a single line of smartphone service with up to one gigabyte of cellular data at those carriers range from $ 45 to $ 50 compared to $ 30 from Google the major carriers , though , offer a variety of family plans that could still be better deals than Project Fi those bundled plans allow several phone lines to share a pool of cellular data rather than building its own network , Google is leasing space on cellular towers built by Sprint Corp and T-Mobile , which are hoping the deals will boost their profits without costing them too many customers tempted to defect to Project Fi to use the service , Nexus 6 6 owners must sign - up to request an invitation , must have a Gmail address , and must live in a US zip code within the coverage area in this map , the dark green areas are covered by the service 's 4G LT , the lime green is covered by 3G and the pale green by 2G Verizon LTE coverage is pictured for comparison Project Fi will be hosted through Sprint Corp and T-Mobile 's networks the service will work only on the company 's Nexus 6 6 phones and only in the US Project Fi will be hosted through Sprint Corp and T-Mobile 's networks overall , it costs $ 20 for basic service , which includes unlimited domestic talk , unlimited texting , tethering , and access in 120 countries customers pay $ 10 per gb of data data is paid for in advance , and the cost of unused data gets refunded rather than rolled over or lost phone numbers will live in the cloud so that consumers can talk and text on any connected tablet calls can be made via Hangouts on Android , iOS , and through Gmail on desktops , via the Hangouts widget texts can be made and received in the same way there is no annual service contract required when you sign up to use the service , Nexus 6 6 owners must sign - up to request an invitation , must have a Gmail address , and must live in a US zip code within the coverage area Google is promising Project Fi will automatically switch over to an available Wi-Fi network if that is running at a higher speed than the cellular alternatives T-Mobile ceo Legere , whose company already has been cutting its prices and rolling out new options , said it was a ' no - brainer ' to work with Google on Project Fi ' anything that shakes up the industry status quo is a good thing — for both US wireless customers and T-Mobile , ' Legere wrote in a blog post Google has an incentive to promote cheaper and faster wireless service as a mobile virutal network operator this is because it operates some of the world 's most popular online services , including its search engine , maps , Gmail and YouTube video site the Mountain View , California , company believes most people will visit those services more frequently if they are enticed to stay online for longer periods , giving Google more opportunities to show the digital ads that generate most of its revenue similar motives prompted Google to begin building high - speed , hard - wired networks capable of navigating the internet at speeds up to 100 times faster than existing broadband services although Google is only selling its broadband service in a handful of US cities so far , AT&T and Comcast are now offering options with comparable speeds in a few communities price in dollars : this graphic shows how much Google 's new Project Fi will cost for various plans for Talk and Text only , the Google carrier will cost $ 20 a month as compared to $ 35 for new partner T-Mobile however the savings really start when 5GB of LTE is consider - with the internet search giant 's plan coming in at $ 70 and telecom giant Verizon 's costing $ 110 a month Project Fi initially will only be sold to a narrow US audience that owns the Nexus 6 6 , a smartphone that Motorola Mobility made with Google 's help\""
      ]
     },
     "execution_count": 83,
     "metadata": {},
     "output_type": "execute_result"
    }
   ],
   "source": [
    "\" \".join(test_output.document[30])"
   ]
  },
  {
   "cell_type": "code",
   "execution_count": 84,
   "metadata": {},
   "outputs": [
    {
     "data": {
      "text/plain": [
       "\"Project Fi will be hosted through Sprint Corp and T-Mobile 's networks it costs $ 20 for basic service and unused data is paid back to customer the invitation - only service will work only on Nexus 6 phones in the US numbers will live in the cloud so users can talk on any connected tablet\""
      ]
     },
     "execution_count": 84,
     "metadata": {},
     "output_type": "execute_result"
    }
   ],
   "source": [
    "test_output.summary[30]"
   ]
  },
  {
   "cell_type": "code",
   "execution_count": 85,
   "metadata": {},
   "outputs": [
    {
     "data": {
      "text/plain": [
       "\"phone numbers will live in the cloud so that consumers can talk and text on any connected tablet. calls can be made via Hangouts on Android , iOS , and through Gmail on desktops , via the Hangouts widget. there is no annual service contract required when you sign up to use the service , Nexus 6 6 owners must sign - up to request an invitation , must have a Gmail address , and must live in a US zip code within the coverage area. however the savings really start when 5GB of LTE is consider - with the internet search giant 's plan coming in at $ 70 and telecom giant Verizon 's costing $ 110 a month Project Fi initially will only be sold to a narrow US audience that owns the Nexus 6 6 , a smartphone that Motorola Mobility made with Google 's help\""
      ]
     },
     "execution_count": 85,
     "metadata": {},
     "output_type": "execute_result"
    }
   ],
   "source": [
    "test_output.predicted_summary[30]"
   ]
  },
  {
   "cell_type": "code",
   "execution_count": 86,
   "metadata": {},
   "outputs": [
    {
     "data": {
      "text/plain": [
       "\"Google launched a new US wireless service today that switches between Wi-Fi network and cellular networks Google is already the world ’s most popular phone software provider , and a pay - tv operator - and now it wants to be your mobile network carrier. the company has unveiled a US wireless service that switches between Wi-Fi network and cellular networks to curb data use and keep phone bills low. the service , called ' Project Fi , ' debuted today , about two months after Google revealed its plans to expand its ever - growing empire into providing wireless connections for smartphones. Google is selling the basic phone service for $ 20 a month and will only charge customers for the amount of cellular data that they use each month , instead of a flat rate. each gigabyte of data will cost $ 10 a month. Project Wi-Fi initially will only be sold to a narrow US audience that owns the Nexus 6 6 , a smartphone that Motorola Mobility made with Google 's help. Google 's pricing setup makes Project Fi less expensive than most of the comparable plans offering by the four biggest wireless phone carriers - Verizon , AT&T , T-Mobile and Sprint Corp. the monthly prices for a single line of smartphone service with up to one gigabyte of cellular data at those carriers range from $ 45 to $ 50 compared to $ 30 from Google. the major carriers , though , offer a variety of family plans that could still be better deals than Project Fi. those bundled plans allow several phone lines to share a pool of cellular data. rather than building its own network , Google is leasing space on cellular towers built by Sprint Corp and T-Mobile , which are hoping the deals will boost their profits without costing them too many customers tempted to defect to Project Fi. to use the service , Nexus 6 6 owners must sign - up to request an invitation , must have a Gmail address , and must live in a US zip code within the coverage area. in this map , the dark green areas are covered by the service 's 4G LT , the lime green is covered by 3G and the pale green by 2G Verizon LTE coverage is pictured for comparison. Project Fi will be hosted through Sprint Corp and T-Mobile 's networks the service will work only on the company 's Nexus 6 6 phones and only in the US Project Fi will be hosted through Sprint Corp and T-Mobile 's networks. overall , it costs $ 20 for basic service , which includes unlimited domestic talk , unlimited texting , tethering , and access in 120 countries. data is paid for in advance , and the cost of unused data gets refunded rather than rolled over or lost. calls can be made via Hangouts on Android , iOS , and through Gmail on desktops , via the Hangouts widget. texts can be made and received in the same way. there is no annual service contract required when you sign up to use the service , Nexus 6 6 owners must sign - up to request an invitation , must have a Gmail address , and must live in a US zip code within the coverage area. Google is promising Project Fi will automatically switch over to an available Wi-Fi network if that is running at a higher speed than the cellular alternatives. T-Mobile ceo Legere , whose company already has been cutting its prices and rolling out new options , said it was a ' no - brainer ' to work with Google on Project Fi. ' anything that shakes up the industry status quo is a good thing — for both US wireless customers and T-Mobile , ' Legere wrote in a blog post. this is because it operates some of the world 's most popular online services , including its search engine , maps , Gmail and YouTube video site. the Mountain View , California , company believes most people will visit those services more frequently if they are enticed to stay online for longer periods , giving Google more opportunities to show the digital ads that generate most of its revenue. similar motives prompted Google to begin building high - speed , hard - wired networks capable of navigating the internet at speeds up to 100 times faster than existing broadband services. although Google is only selling its broadband service in a handful of US cities so far , AT&T and Comcast are now offering options with comparable speeds in a few communities. for Talk and Text only , the Google carrier will cost $ 20 a month as compared to $ 35 for new partner T-Mobile. however the savings really start when 5GB of LTE is consider - with the internet search giant 's plan coming in at $ 70 and telecom giant Verizon 's costing $ 110 a month Project Fi initially will only be sold to a narrow US audience that owns the Nexus 6 6 , a smartphone that Motorola Mobility made with Google 's help\""
      ]
     },
     "execution_count": 86,
     "metadata": {},
     "output_type": "execute_result"
    }
   ],
   "source": [
    "test_output_more.predicted_summary[30]"
   ]
  },
  {
   "cell_type": "code",
   "execution_count": 42,
   "metadata": {
    "collapsed": true
   },
   "outputs": [],
   "source": [
    "contractions = { \n",
    "\"ain't\": \"am not\",\n",
    "\"aren't\": \"are not\",\n",
    "\"can't\": \"cannot\",\n",
    "\"can't've\": \"cannot have\",\n",
    "\"'cause\": \"because\",\n",
    "\"could've\": \"could have\",\n",
    "\"couldn't\": \"could not\",\n",
    "\"couldn't've\": \"could not have\",\n",
    "\"didn't\": \"did not\",\n",
    "\"doesn't\": \"does not\",\n",
    "\"don't\": \"do not\",\n",
    "\"hadn't\": \"had not\",\n",
    "\"hadn't've\": \"had not have\",\n",
    "\"hasn't\": \"has not\",\n",
    "\"haven't\": \"have not\",\n",
    "\"he'd\": \"he would\",\n",
    "\"he'd've\": \"he would have\",\n",
    "\"he'll\": \"he will\",\n",
    "\"he's\": \"he is\",\n",
    "\"how'd\": \"how did\",\n",
    "\"how'll\": \"how will\",\n",
    "\"how's\": \"how is\",\n",
    "\"i'd\": \"i would\",\n",
    "\"i'll\": \"i will\",\n",
    "\"i'm\": \"i am\",\n",
    "\"i've\": \"i have\",\n",
    "\"isn't\": \"is not\",\n",
    "\"it'd\": \"it would\",\n",
    "\"it'll\": \"it will\",\n",
    "\"it's\": \"it is\",\n",
    "\"let's\": \"let us\",\n",
    "\"ma'am\": \"madam\",\n",
    "\"mayn't\": \"may not\",\n",
    "\"might've\": \"might have\",\n",
    "\"mightn't\": \"might not\",\n",
    "\"must've\": \"must have\",\n",
    "\"mustn't\": \"must not\",\n",
    "\"needn't\": \"need not\",\n",
    "\"oughtn't\": \"ought not\",\n",
    "\"shan't\": \"shall not\",\n",
    "\"sha'n't\": \"shall not\",\n",
    "\"she'd\": \"she would\",\n",
    "\"she'll\": \"she will\",\n",
    "\"she's\": \"she is\",\n",
    "\"should've\": \"should have\",\n",
    "\"shouldn't\": \"should not\",\n",
    "\"that'd\": \"that would\",\n",
    "\"that's\": \"that is\",\n",
    "\"there'd\": \"there had\",\n",
    "\"there's\": \"there is\",\n",
    "\"they'd\": \"they would\",\n",
    "\"they'll\": \"they will\",\n",
    "\"they're\": \"they are\",\n",
    "\"they've\": \"they have\",\n",
    "\"wasn't\": \"was not\",\n",
    "\"we'd\": \"we would\",\n",
    "\"we'll\": \"we will\",\n",
    "\"we're\": \"we are\",\n",
    "\"we've\": \"we have\",\n",
    "\"weren't\": \"were not\",\n",
    "\"what'll\": \"what will\",\n",
    "\"what're\": \"what are\",\n",
    "\"what's\": \"what is\",\n",
    "\"what've\": \"what have\",\n",
    "\"where'd\": \"where did\",\n",
    "\"where's\": \"where is\",\n",
    "\"who'll\": \"who will\",\n",
    "\"who's\": \"who is\",\n",
    "\"won't\": \"will not\",\n",
    "\"wouldn't\": \"would not\",\n",
    "\"you'd\": \"you would\",\n",
    "\"you'll\": \"you will\",\n",
    "\"you're\": \"you are\"\n",
    "}"
   ]
  },
  {
   "cell_type": "code",
   "execution_count": 43,
   "metadata": {
    "collapsed": true
   },
   "outputs": [],
   "source": [
    "def preprocess(text, stopwords_removal=False, stemming=False):\n",
    "    cachedStopWords = stopwords.words(\"english\")\n",
    "    text = text.lower()\n",
    "    text = re.sub(r'[_\"\\-;%()|+&=*%.,!?:#$@\\[\\]/]', ' ', text)\n",
    "    text = re.sub(r\" ' \", \" \", text)\n",
    "    str1 = re.findall(\"[@a-zA-Z0-9]* '[a-zA-Z]\", text)\n",
    "    for l in str1:\n",
    "        text= re.sub(l,l.replace(\" \",\"\"),text)\n",
    "    text = re.findall(r\"[\\w']+\", text)\n",
    "    new_text = []\n",
    "    for word in text:\n",
    "        if word in contractions:\n",
    "            new_text.append(contractions[word])\n",
    "        else:\n",
    "            new_text.append(word)\n",
    "    text = \" \".join(new_text)\n",
    "    tokens = text.split()\n",
    "    words = []\n",
    "    if stopwords_removal:\n",
    "        for token in tokens:\n",
    "            if token not in cachedStopWords:\n",
    "                words.append(token)\n",
    "            text = \" \".join(words)        \n",
    "    if stemming:\n",
    "        text = [\" \".join([stem(word) for word in sentence.split(\" \")]) for sentence in text]\n",
    "    return text"
   ]
  },
  {
   "cell_type": "code",
   "execution_count": 25,
   "metadata": {
    "collapsed": true
   },
   "outputs": [],
   "source": [
    "sentences = []\n",
    "for i in range(len(test_output[\"document\"])):\n",
    "    for j in range(len(test_output[\"document\"][i])):\n",
    "        sentences.append(preprocess(test_output[\"document\"][i][j], True))"
   ]
  },
  {
   "cell_type": "code",
   "execution_count": 44,
   "metadata": {},
   "outputs": [
    {
     "name": "stderr",
     "output_type": "stream",
     "text": [
      "C:\\Users\\amrit\\Anaconda3\\lib\\site-packages\\bs4\\__init__.py:181: UserWarning: No parser was explicitly specified, so I'm using the best available HTML parser for this system (\"lxml\"). This usually isn't a problem, but if you run this code on another system, or in a different virtual environment, it may use a different parser and behave differently.\n",
      "\n",
      "The code that caused this warning is on line 193 of the file C:\\Users\\amrit\\Anaconda3\\lib\\runpy.py. To get rid of this warning, change code that looks like this:\n",
      "\n",
      " BeautifulSoup(YOUR_MARKUP})\n",
      "\n",
      "to this:\n",
      "\n",
      " BeautifulSoup(YOUR_MARKUP, \"lxml\")\n",
      "\n",
      "  markup_type=markup_type))\n",
      "C:\\Users\\amrit\\Anaconda3\\lib\\site-packages\\bs4\\__init__.py:219: UserWarning: \"b'.... ...'\" looks like a filename, not markup. You should probably open this file and pass the filehandle into Beautiful Soup.\n",
      "  ' Beautiful Soup.' % markup)\n",
      "C:\\Users\\amrit\\Anaconda3\\lib\\site-packages\\bs4\\__init__.py:219: UserWarning: \"b'.. .'\" looks like a filename, not markup. You should probably open this file and pass the filehandle into Beautiful Soup.\n",
      "  ' Beautiful Soup.' % markup)\n"
     ]
    }
   ],
   "source": [
    "users_text_pre = []\n",
    "for i in range(len(users_text)):\n",
    "    soup = BeautifulSoup(users_text[i])\n",
    "    letters_only = re.sub(\"[^a-zA-Z]\", \" \", soup.get_text())\n",
    "    users_text_pre.append(letters_only)"
   ]
  },
  {
   "cell_type": "code",
   "execution_count": 45,
   "metadata": {},
   "outputs": [
    {
     "data": {
      "text/plain": [
       "'Student (T.T.V.). Hey!! I am <b>Rajorshi Sanyal</b>. Nickname<b> Rupam</b>. I am a student. Fond of Playing Cricket, Football, Table Tennis<div>and Computer games.</div><div>Favourite Player: <b>MS- Dhoni</b> &amp; <b>Sourav Ganguly.</b></div><div>Favourite Footballer:<b> Cristiano Ronaldo</b> &amp; <b>Lionel Messi.</b></div><div><b><br></b></div><div><b><i><u><br></u></i></b></div>'"
      ]
     },
     "execution_count": 45,
     "metadata": {},
     "output_type": "execute_result"
    }
   ],
   "source": [
    "users_text[20832]"
   ]
  },
  {
   "cell_type": "code",
   "execution_count": 13,
   "metadata": {},
   "outputs": [
    {
     "data": {
      "text/plain": [
       "'The Grumpy Old Troll  I comment on blogs and play PbP games as  migellito   and I write at The Grumpy Old Troll I also run an OD D game over G  Hangout every Monday night at  pm EST  Tuesday  am GMT  Tuesday  pm NZDT  Message me to get added to the player pool '"
      ]
     },
     "execution_count": 13,
     "metadata": {},
     "output_type": "execute_result"
    }
   ],
   "source": [
    "users_text_pre[12942]"
   ]
  },
  {
   "cell_type": "code",
   "execution_count": 14,
   "metadata": {
    "collapsed": true
   },
   "outputs": [],
   "source": [
    "for i in range(len(users_text_pre)):\n",
    "    if \"ronaldo\" in users_text_pre[i].split(\" \"):\n",
    "        print(i)"
   ]
  },
  {
   "cell_type": "code",
   "execution_count": 46,
   "metadata": {},
   "outputs": [
    {
     "data": {
      "text/plain": [
       "'Student  T T V    Hey   I am Rajorshi Sanyal  Nickname Rupam  I am a student  Fond of Playing Cricket  Football  Table Tennisand Computer games Favourite Player  MS  Dhoni   Sourav Ganguly Favourite Footballer  Cristiano Ronaldo   Lionel Messi '"
      ]
     },
     "execution_count": 46,
     "metadata": {},
     "output_type": "execute_result"
    }
   ],
   "source": [
    "users_text_pre[20832]"
   ]
  },
  {
   "cell_type": "code",
   "execution_count": 47,
   "metadata": {},
   "outputs": [
    {
     "data": {
      "text/plain": [
       "'i live  work and play in the digital world   i am a digital specialist in WNY with a focus on social media  content generation  inbound marketing  digital advertising and photography '"
      ]
     },
     "execution_count": 47,
     "metadata": {},
     "output_type": "execute_result"
    }
   ],
   "source": [
    "users_text_pre[4333]"
   ]
  },
  {
   "cell_type": "code",
   "execution_count": 48,
   "metadata": {},
   "outputs": [
    {
     "data": {
      "text/plain": [
       "'I live in the yonge and Eglinton area and I am laid back and easy to get a long with   I am here just seeing what this Google  thing is all about and maybe meet some cool people  I love playing guitar and hanging out with friends  I live in the Yonge and Eglinton area  I m friendly and easy to talk to    I am here to see what this Google  thing is all about and maybe meet some cool people  '"
      ]
     },
     "execution_count": 48,
     "metadata": {},
     "output_type": "execute_result"
    }
   ],
   "source": [
    "users_text_pre[4447]"
   ]
  },
  {
   "cell_type": "code",
   "execution_count": 49,
   "metadata": {},
   "outputs": [
    {
     "data": {
      "text/plain": [
       "'I am your atypical car and technology nut   Recovering Twitter Addict  I enjoy autos  travel  tech  and photography  I also enjoy reading fiction and learning new technology  I am a Microsoft Apple Google fan  Did I say I like cars  Estudiante de Espa ol  Soy latino honarario  '"
      ]
     },
     "execution_count": 49,
     "metadata": {},
     "output_type": "execute_result"
    }
   ],
   "source": [
    "users_text_pre[5555]"
   ]
  },
  {
   "cell_type": "code",
   "execution_count": 50,
   "metadata": {},
   "outputs": [
    {
     "data": {
      "text/plain": [
       "'iPHOTOSTUFF    T bone     Part time Aspirin Engraver    Seinfeld Fanatic    Jacked Up On Dew    Lover of all things shiny    No word wrap on this thing  G    D  Stay   Home Dad   It s all about Levels Jerry   Photographer of all things macro  get your TiMacrofied on on the www  http   timsdigitaldarkroom com in the blog matrix  http   www timsdd com defaced book  https   www facebook com pages Tims Digital Darkroom                '"
      ]
     },
     "execution_count": 50,
     "metadata": {},
     "output_type": "execute_result"
    }
   ],
   "source": [
    "users_text_pre[8888]"
   ]
  },
  {
   "cell_type": "code",
   "execution_count": 51,
   "metadata": {},
   "outputs": [
    {
     "data": {
      "text/plain": [
       "'Multimedia Developer  I have too many interests '"
      ]
     },
     "execution_count": 51,
     "metadata": {},
     "output_type": "execute_result"
    }
   ],
   "source": [
    "users_text_pre[2323]"
   ]
  },
  {
   "cell_type": "code",
   "execution_count": 52,
   "metadata": {},
   "outputs": [
    {
     "data": {
      "text/plain": [
       "'I can explain it to you but I can t understand if for you   Pastafarian  anatidaephobic and fucking cynic '"
      ]
     },
     "execution_count": 52,
     "metadata": {},
     "output_type": "execute_result"
    }
   ],
   "source": [
    "users_text_pre[9997]"
   ]
  },
  {
   "cell_type": "code",
   "execution_count": 53,
   "metadata": {},
   "outputs": [
    {
     "data": {
      "text/plain": [
       "'math  writing  tech  edu       Enjoy tinkering with mathematics  especially coding theory and representation theory   SAGE  www sagemath org  and GAP  www gap system org   writing  computers  video  chess  and photography  Interested in open source and math education related issues '"
      ]
     },
     "execution_count": 53,
     "metadata": {},
     "output_type": "execute_result"
    }
   ],
   "source": [
    "users_text_pre[4483]"
   ]
  },
  {
   "cell_type": "code",
   "execution_count": 54,
   "metadata": {
    "collapsed": true
   },
   "outputs": [],
   "source": [
    "interesting_users = []"
   ]
  },
  {
   "cell_type": "code",
   "execution_count": 55,
   "metadata": {
    "collapsed": true
   },
   "outputs": [],
   "source": [
    "interesting_users.append(users_text_pre[2323])\n",
    "interesting_users.append(users_text_pre[8888])\n",
    "interesting_users.append(users_text_pre[5555])\n",
    "interesting_users.append(users_text_pre[4483])\n",
    "interesting_users.append(users_text_pre[4447])\n",
    "interesting_users.append(users_text_pre[4333])"
   ]
  },
  {
   "cell_type": "code",
   "execution_count": 56,
   "metadata": {},
   "outputs": [
    {
     "data": {
      "text/plain": [
       "['Multimedia Developer  I have too many interests ',\n",
       " 'iPHOTOSTUFF    T bone     Part time Aspirin Engraver    Seinfeld Fanatic    Jacked Up On Dew    Lover of all things shiny    No word wrap on this thing  G    D  Stay   Home Dad   It s all about Levels Jerry   Photographer of all things macro  get your TiMacrofied on on the www  http   timsdigitaldarkroom com in the blog matrix  http   www timsdd com defaced book  https   www facebook com pages Tims Digital Darkroom                ',\n",
       " 'I am your atypical car and technology nut   Recovering Twitter Addict  I enjoy autos  travel  tech  and photography  I also enjoy reading fiction and learning new technology  I am a Microsoft Apple Google fan  Did I say I like cars  Estudiante de Espa ol  Soy latino honarario  ',\n",
       " 'math  writing  tech  edu       Enjoy tinkering with mathematics  especially coding theory and representation theory   SAGE  www sagemath org  and GAP  www gap system org   writing  computers  video  chess  and photography  Interested in open source and math education related issues ',\n",
       " 'I live in the yonge and Eglinton area and I am laid back and easy to get a long with   I am here just seeing what this Google  thing is all about and maybe meet some cool people  I love playing guitar and hanging out with friends  I live in the Yonge and Eglinton area  I m friendly and easy to talk to    I am here to see what this Google  thing is all about and maybe meet some cool people  ',\n",
       " 'i live  work and play in the digital world   i am a digital specialist in WNY with a focus on social media  content generation  inbound marketing  digital advertising and photography ']"
      ]
     },
     "execution_count": 56,
     "metadata": {},
     "output_type": "execute_result"
    }
   ],
   "source": [
    "interesting_users"
   ]
  },
  {
   "cell_type": "code",
   "execution_count": 57,
   "metadata": {
    "collapsed": true
   },
   "outputs": [],
   "source": [
    "from googleapiclient import discovery\n",
    "import httplib2\n",
    "from oauth2client.client import GoogleCredentials\n",
    "\n",
    "\n",
    "# words = lower_case.split()\n",
    "# words = [w for w in words if not w in stopwords.words(\"english\")]\n",
    "# print(lower_case)\n",
    "\n",
    "\n",
    "def get_service():\n",
    "    credentials = GoogleCredentials.get_application_default()\n",
    "    scoped_credentials = credentials.create_scoped(\n",
    "        ['https://www.googleapis.com/auth/cloud-platform'])\n",
    "    http = httplib2.Http()\n",
    "    scoped_credentials.authorize(http)\n",
    "    return discovery.build('language', 'v1beta1', http=http)\n",
    "\n",
    "\n",
    "def get_native_encoding_type():\n",
    "    \"\"\"Returns the encoding type that matches Python's native strings.\"\"\"\n",
    "    if sys.maxunicode == 65535:\n",
    "        return 'UTF16'\n",
    "    else:\n",
    "        return 'UTF32'\n",
    "\n",
    "\n",
    "def analyze_entities(text, encoding='UTF32'):\n",
    "    body = {\n",
    "        'document': {\n",
    "            'type': 'PLAIN_TEXT',\n",
    "            'content': text,\n",
    "        },\n",
    "        'encoding_type': encoding,\n",
    "    }\n",
    "\n",
    "    service = get_service()\n",
    "\n",
    "    request = service.documents().analyzeEntities(body=body)\n",
    "    response = request.execute()\n",
    "    entities = []\n",
    "    for i in range(len(response['entities'])):\n",
    "    \tif(response['entities'][i]['salience']>0.001):\n",
    "    \t\tentities.append(response['entities'][i]['name'])\n",
    "    return(set(entities))"
   ]
  },
  {
   "cell_type": "code",
   "execution_count": 58,
   "metadata": {
    "collapsed": true
   },
   "outputs": [],
   "source": [
    "interesting_user_entities = []\n",
    "for i in range(len(interesting_users)):\n",
    "    interesting_user_entities.append(analyze_entities(interesting_users[i]))"
   ]
  },
  {
   "cell_type": "code",
   "execution_count": 82,
   "metadata": {},
   "outputs": [
    {
     "data": {
      "text/plain": [
       "{'Addict',\n",
       " 'Apple',\n",
       " 'Estudiante de Espa',\n",
       " 'Google',\n",
       " 'Microsoft',\n",
       " 'Soy',\n",
       " 'autos',\n",
       " 'car',\n",
       " 'cars',\n",
       " 'fan',\n",
       " 'honarario',\n",
       " 'nut',\n",
       " 'photography',\n",
       " 'reading fiction',\n",
       " 'tech',\n",
       " 'technology'}"
      ]
     },
     "execution_count": 82,
     "metadata": {},
     "output_type": "execute_result"
    }
   ],
   "source": [
    "interesting_user_entities[2]"
   ]
  },
  {
   "cell_type": "code",
   "execution_count": 66,
   "metadata": {},
   "outputs": [
    {
     "name": "stdout",
     "output_type": "stream",
     "text": [
      "30 0\n",
      "30 2\n",
      "30 3\n",
      "30 7\n",
      "30 8\n",
      "30 9\n",
      "30 12\n",
      "30 23\n",
      "30 24\n",
      "30 26\n",
      "30 28\n",
      "30 29\n",
      "30 30\n",
      "30 31\n",
      "30 32\n",
      "30 33\n",
      "92 0\n",
      "92 2\n",
      "92 3\n",
      "92 4\n",
      "92 5\n",
      "92 8\n",
      "92 11\n",
      "110 3\n",
      "110 23\n",
      "110 30\n",
      "147 0\n",
      "147 2\n",
      "147 3\n",
      "147 6\n",
      "147 15\n",
      "147 16\n",
      "147 20\n",
      "147 23\n",
      "147 47\n",
      "212 9\n",
      "212 19\n",
      "212 36\n",
      "325 1\n",
      "325 14\n",
      "325 18\n",
      "429 8\n",
      "429 11\n",
      "491 7\n",
      "896 0\n",
      "896 4\n",
      "896 14\n",
      "896 31\n",
      "896 33\n",
      "896 34\n",
      "948 31\n",
      "1120 47\n",
      "1270 11\n",
      "1338 0\n",
      "1338 3\n",
      "1338 4\n",
      "1338 7\n",
      "1338 8\n",
      "1338 10\n",
      "1338 11\n",
      "1338 12\n",
      "1338 15\n",
      "1338 16\n",
      "1338 17\n",
      "1338 19\n",
      "1338 20\n",
      "1338 22\n",
      "1338 23\n",
      "1338 24\n",
      "1338 25\n",
      "1424 1\n",
      "1424 4\n",
      "1424 7\n",
      "1424 8\n",
      "1424 13\n",
      "1424 26\n",
      "1424 33\n",
      "1508 6\n",
      "1520 0\n",
      "1520 2\n",
      "1520 3\n",
      "1520 4\n",
      "1520 5\n",
      "1520 9\n",
      "1520 10\n",
      "1520 12\n",
      "1520 13\n",
      "1520 14\n",
      "1520 15\n",
      "1520 17\n",
      "1520 20\n",
      "1520 21\n",
      "1520 22\n",
      "1520 23\n",
      "1548 44\n",
      "1548 45\n",
      "1564 14\n",
      "1643 10\n",
      "1851 1\n",
      "1851 2\n",
      "1851 3\n",
      "1851 4\n",
      "1851 8\n",
      "1851 9\n",
      "1851 11\n",
      "1851 15\n",
      "1851 22\n",
      "1851 53\n",
      "1851 55\n",
      "1851 58\n",
      "1916 5\n",
      "1988 32\n",
      "2024 11\n",
      "2024 18\n",
      "2041 0\n",
      "2041 2\n",
      "2041 3\n",
      "2041 6\n",
      "2041 7\n",
      "2041 12\n",
      "2041 16\n",
      "2041 18\n",
      "2041 19\n",
      "2041 20\n",
      "2292 10\n",
      "2292 13\n",
      "2292 14\n",
      "2292 18\n",
      "2292 19\n",
      "2292 20\n",
      "2452 16\n",
      "2523 9\n",
      "2541 5\n",
      "2795 9\n",
      "2814 19\n",
      "2814 21\n",
      "2814 22\n",
      "2814 23\n",
      "2884 0\n",
      "2884 3\n",
      "2884 4\n",
      "2884 6\n",
      "2884 10\n",
      "2884 12\n",
      "2919 19\n",
      "3080 2\n",
      "3080 30\n",
      "3087 1\n",
      "3087 3\n",
      "3193 17\n",
      "3319 3\n",
      "3319 18\n",
      "3342 4\n",
      "3342 25\n",
      "3342 28\n",
      "3388 3\n",
      "3388 5\n",
      "3449 2\n",
      "3540 0\n",
      "3540 2\n",
      "3540 4\n",
      "3540 6\n",
      "3540 7\n",
      "3540 8\n",
      "3540 9\n",
      "3540 10\n",
      "3540 11\n",
      "3540 15\n",
      "3540 16\n",
      "3540 20\n",
      "3540 22\n",
      "3540 25\n",
      "3540 26\n",
      "3540 27\n",
      "3540 28\n",
      "3540 30\n",
      "3540 31\n",
      "3540 32\n",
      "3558 2\n",
      "3558 3\n",
      "3558 4\n",
      "3558 9\n",
      "3558 11\n",
      "3558 15\n",
      "3558 16\n",
      "3558 19\n",
      "3558 22\n",
      "3558 25\n",
      "3566 5\n",
      "3566 19\n",
      "3566 53\n",
      "3777 3\n",
      "3777 4\n",
      "3777 6\n",
      "3777 7\n",
      "3777 9\n",
      "3804 17\n",
      "3844 10\n",
      "3855 0\n",
      "3855 1\n",
      "3855 2\n",
      "3855 3\n",
      "3855 7\n",
      "3855 8\n",
      "3855 10\n",
      "3855 12\n",
      "3855 15\n",
      "3855 17\n",
      "4244 17\n",
      "4244 44\n",
      "4310 20\n",
      "4310 21\n",
      "4364 7\n",
      "4375 0\n",
      "4415 5\n",
      "4934 13\n",
      "4934 15\n",
      "4934 20\n",
      "4934 29\n",
      "4934 31\n",
      "4934 33\n",
      "4934 43\n",
      "5043 1\n",
      "5043 22\n",
      "5043 23\n",
      "5043 40\n",
      "5043 42\n",
      "5043 43\n",
      "5043 44\n",
      "5043 46\n",
      "5124 10\n",
      "5148 16\n",
      "5148 21\n",
      "5277 12\n",
      "5296 1\n",
      "5296 3\n",
      "5296 5\n",
      "5296 7\n",
      "5296 8\n",
      "5296 9\n",
      "5296 10\n",
      "5296 26\n",
      "5303 1\n",
      "5382 19\n",
      "5422 31\n",
      "5451 0\n",
      "5451 1\n",
      "5451 3\n",
      "5451 4\n",
      "5451 5\n",
      "5451 6\n",
      "5451 10\n",
      "5451 11\n",
      "5451 14\n",
      "5451 15\n",
      "5451 16\n",
      "5451 17\n",
      "5451 18\n",
      "5451 19\n",
      "5549 2\n",
      "5549 6\n",
      "5626 12\n",
      "5682 0\n",
      "5682 2\n",
      "5682 3\n",
      "5682 5\n",
      "5682 7\n",
      "5682 8\n",
      "5682 10\n",
      "5682 12\n",
      "5718 6\n",
      "5718 15\n",
      "5834 0\n",
      "5834 2\n",
      "5834 4\n",
      "5834 5\n",
      "5834 6\n",
      "5834 7\n",
      "5834 8\n",
      "5834 10\n",
      "5868 18\n",
      "5868 20\n",
      "6043 0\n",
      "6043 1\n",
      "6043 2\n",
      "6043 3\n",
      "6043 8\n",
      "6043 21\n",
      "6043 28\n",
      "6058 1\n",
      "6058 2\n",
      "6058 3\n",
      "6058 4\n",
      "6058 7\n",
      "6058 8\n",
      "6058 10\n",
      "6058 12\n",
      "6058 13\n",
      "6058 14\n",
      "6058 17\n",
      "6058 19\n",
      "6058 20\n",
      "6058 22\n",
      "6058 24\n",
      "6080 0\n",
      "6080 9\n",
      "6128 0\n",
      "6128 1\n",
      "6128 5\n",
      "6128 13\n",
      "6128 14\n",
      "6128 23\n",
      "6128 25\n",
      "6128 31\n",
      "6128 34\n",
      "6128 35\n",
      "6128 38\n",
      "6189 7\n",
      "6189 32\n",
      "6189 33\n",
      "6189 34\n",
      "6260 23\n",
      "6301 0\n",
      "6301 3\n",
      "6301 17\n",
      "6315 19\n",
      "6721 21\n",
      "6724 1\n",
      "6724 3\n",
      "6724 9\n",
      "6804 25\n",
      "6804 26\n",
      "6919 6\n",
      "7082 0\n",
      "7121 40\n",
      "7121 43\n",
      "7184 9\n",
      "7204 0\n",
      "7204 9\n",
      "7204 15\n",
      "7204 19\n",
      "7204 22\n",
      "7482 45\n",
      "7554 0\n",
      "7554 2\n",
      "7554 3\n",
      "7554 4\n",
      "7554 10\n",
      "7554 11\n",
      "7554 13\n",
      "7554 14\n",
      "7554 22\n",
      "7554 29\n",
      "7554 30\n",
      "7554 31\n",
      "7554 32\n",
      "7554 37\n",
      "7554 38\n",
      "7554 39\n",
      "7554 40\n",
      "7554 41\n",
      "7632 3\n",
      "7675 18\n",
      "7722 9\n",
      "7810 17\n",
      "7936 1\n",
      "7936 5\n",
      "7936 6\n",
      "7936 19\n",
      "7936 21\n",
      "7936 24\n",
      "7936 39\n",
      "7936 41\n",
      "7936 42\n",
      "7936 43\n",
      "7974 7\n",
      "7974 8\n",
      "8093 31\n",
      "8231 0\n",
      "8231 3\n",
      "8231 4\n",
      "8231 21\n",
      "8231 23\n",
      "8285 5\n",
      "8285 36\n",
      "8306 1\n",
      "8306 5\n",
      "8306 6\n",
      "8389 3\n",
      "8389 61\n",
      "8427 38\n",
      "8471 0\n",
      "8471 2\n",
      "8471 4\n",
      "8471 5\n",
      "8471 9\n",
      "8471 10\n",
      "8471 12\n",
      "8471 13\n",
      "8471 14\n",
      "8471 15\n",
      "8471 16\n",
      "8471 19\n",
      "8471 20\n",
      "8471 21\n",
      "8471 23\n",
      "8471 24\n",
      "8471 27\n",
      "8471 38\n",
      "8471 39\n",
      "8471 40\n",
      "8471 42\n",
      "8471 43\n",
      "8471 45\n",
      "8471 46\n",
      "8471 47\n",
      "8471 48\n",
      "8471 50\n",
      "8471 52\n",
      "8471 53\n",
      "8471 55\n",
      "8632 6\n",
      "8643 26\n",
      "8836 4\n",
      "8836 20\n",
      "8924 1\n",
      "8924 2\n",
      "8924 3\n",
      "8924 4\n",
      "8924 5\n",
      "8924 6\n",
      "8924 8\n",
      "8924 11\n",
      "8924 23\n",
      "8924 24\n",
      "8924 26\n",
      "8924 27\n",
      "9233 8\n",
      "9286 2\n",
      "9286 4\n",
      "9343 30\n",
      "9343 42\n",
      "9343 47\n",
      "9423 32\n",
      "9437 12\n",
      "9437 13\n",
      "9437 14\n",
      "9468 6\n",
      "9526 20\n",
      "9612 8\n",
      "9617 1\n",
      "9617 4\n",
      "9617 21\n",
      "9776 20\n",
      "9781 2\n",
      "9781 3\n",
      "9781 4\n",
      "9781 10\n",
      "9781 18\n",
      "9781 22\n",
      "9781 23\n",
      "9781 24\n",
      "9781 29\n",
      "9926 0\n",
      "9926 1\n",
      "9926 2\n",
      "9926 3\n",
      "9926 4\n",
      "9926 6\n",
      "9926 7\n",
      "9926 8\n",
      "9926 9\n",
      "9926 10\n",
      "9926 12\n",
      "9926 13\n",
      "9926 16\n",
      "9926 18\n",
      "9926 19\n",
      "9926 20\n",
      "9926 23\n",
      "9926 25\n",
      "9926 28\n",
      "9926 29\n",
      "9931 15\n",
      "9970 9\n",
      "9970 10\n",
      "9970 11\n",
      "9970 18\n",
      "10076 29\n",
      "10299 4\n",
      "10322 25\n",
      "10330 28\n"
     ]
    }
   ],
   "source": [
    "for i in range(len(test_output.summary)):\n",
    "    for j in range(len(test_output[\"document\"][i])):\n",
    "        if \"\" in test_output[\"document\"][i][j].split(\" \"):\n",
    "            print(i, j)"
   ]
  },
  {
   "cell_type": "code",
   "execution_count": 62,
   "metadata": {},
   "outputs": [
    {
     "data": {
      "text/plain": [
       "['Neil Redfearn is considering his position as manager of Leeds after the club suspended his assistant Steve Thompson on thursday',\n",
       " 'Leeds took two months to appoint Steve Thompson but he was told in a letter from director of football Salerno yesterday morning that he was be suspended until the end of the season effectively ending his time at Elland Road after 105 days',\n",
       " 'Steve Thompson is understood to have been told that he will be suspended until his contract expires at the end of the season',\n",
       " 'he has also been informed that an option to renew his deal will not be taken up by the club',\n",
       " \"Leeds assistant manager Steve Thompson ( left ) has been suspended by the club Steve Thompson 's suspension has left manager Neil Redfearn considering his future at Elland Road a club statement read : ' the director of football Salerno , has today ( april 2 ) suspended the assistant coach Steve Thompson from his duties at the club\",\n",
       " 'this is an internal matter and the club will make no further comment on this internal issue',\n",
       " \"' Neil Redfearn , the club 's third coach of the season , took training before attending a delayed press conference and said : ' it ’s become difficult for me\",\n",
       " 'it ’s not ideal timing',\n",
       " 'i ’ve got to have a good think about my future now',\n",
       " 'we have put things together me and Steve Thompson',\n",
       " 'before it was a no brainer for me to stay on , not so much now',\n",
       " \"' i love this club , i was brought up on Leeds but this situation is a difficult one for me ' Thommo was informed this morning through a letter\",\n",
       " 'he ’s been suspended - for what , i do n’t know',\n",
       " 'you ’d have to find that out from the club',\n",
       " 'i do n’t understand why he has been suspended',\n",
       " 'it ’s a difficult one for me to take , i ca n’t think for one minute why someone who has been part of this success has been sacked',\n",
       " \"' me and Steve Thompson were the ideal partnership , he ’s been great for me and i ’m bitterly disappointed that he ’s not here\",\n",
       " \"' Neil Redfearn ’s contract is also up at the end of the season and club president Massimo Cellino is suspended until may 3\",\n",
       " \"Sol Bamba heads home in a recent win for the Whites at Fulham 's Craven Cottage Leeds sit 13th in the Championship table but were unbeaten in march and take on Blackburn Rovers on saturday\",\n",
       " 'it is also understood that Neil Redfearn is under pressure not to select top scorer Mirco Antenucci who will trigger a bonus clause in his contract should he score two more goals',\n",
       " \"Steve Thompson is taking advice from the LMA while Salerno 's own position is thought to be open to review at the end of the season .\"]"
      ]
     },
     "execution_count": 62,
     "metadata": {},
     "output_type": "execute_result"
    }
   ],
   "source": [
    "test_output.document[0]"
   ]
  },
  {
   "cell_type": "code",
   "execution_count": null,
   "metadata": {
    "collapsed": true
   },
   "outputs": [],
   "source": []
  }
 ],
 "metadata": {
  "kernelspec": {
   "display_name": "Python 3",
   "language": "python",
   "name": "python3"
  },
  "language_info": {
   "codemirror_mode": {
    "name": "ipython",
    "version": 3
   },
   "file_extension": ".py",
   "mimetype": "text/x-python",
   "name": "python",
   "nbconvert_exporter": "python",
   "pygments_lexer": "ipython3",
   "version": "3.6.1"
  }
 },
 "nbformat": 4,
 "nbformat_minor": 2
}
